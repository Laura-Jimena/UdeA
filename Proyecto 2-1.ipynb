{
 "cells": [
  {
   "cell_type": "markdown",
   "id": "5e459bd1",
   "metadata": {},
   "source": [
    "# **Probabilidad y Estadística** \n",
    "# **Proyecto 2: Estadística Descriptiva.** \n",
    "# **2025-1**"
   ]
  },
  {
   "cell_type": "code",
   "execution_count": 2,
   "id": "446f8aab",
   "metadata": {},
   "outputs": [],
   "source": [
    "import pandas as pd\n",
    "import numpy as np\n",
    "import matplotlib.pyplot as plt\n",
    "import seaborn as sns\n",
    "import scipy.stats as stats\n",
    "from statsmodels.stats.proportion import proportions_ztest\n",
    "from scipy.stats import wilcoxon\n",
    "from scipy.stats import binomtest\n",
    "from scipy.stats import median_abs_deviation\n",
    "from scipy.stats import iqr\n",
    "from tabulate import tabulate\n",
    "from scipy.stats import ttest_rel\n",
    "from statsmodels.sandbox.stats.runs import runstest_1samp\n",
    "from statsmodels.stats.multicomp import pairwise_tukeyhsd\n",
    "from statsmodels.formula.api import ols\n",
    "import statsmodels.api as sm\n",
    "from scipy.stats import mannwhitneyu\n",
    "\n",
    "\n",
    "\n",
    "\n"
   ]
  },
  {
   "cell_type": "code",
   "execution_count": 25,
   "id": "25a8d65b",
   "metadata": {},
   "outputs": [],
   "source": [
    "def test_normalityKS(data, variable): # Pruaba de Normalidad Kolmogorov-Smirnof \n",
    "    \"\"\"\n",
    "    data: arreglo de datos a evaluar la normalidad\n",
    "    variable: string con el nombre de la variable \n",
    "    \"\"\"  \n",
    "    print(f\"\\n Análisis de normalidad por Kolmogorov-Smirnov para '{variable}'\")\n",
    "\n",
    "    # Kolmogorov-Smirnov (KS) test\n",
    "    ks_stat, ks_p = stats.kstest(data, 'norm', args=(np.mean(data), np.std(data)))\n",
    "    print(f\" Estadístico = {ks_stat:.4f}, p-valor = {ks_p:.4f}\")\n",
    "    if ks_p < 0.05:\n",
    "        print(f\"Los datos no provienen de una distribucion normal'{variable}'\")\n",
    "    else:\n",
    "        print(f\"Los datos provienen de una distribucion normal '{variable}'\")\n",
    "    return ks_stat, ks_p\n",
    "    \n",
    "\n",
    "def test_normalitySW(data, variable): # Prueba de Normalizas Shapiro-Wilks \n",
    "    \"\"\"\n",
    "    data: arreglo de datos a evaluar la normalidad\n",
    "    variable: string con el nombre de la variable \n",
    "    \"\"\"\n",
    "    print(f\"\\n Análisis de normalidad por Shapiro-Wilk para '{variable}'\")\n",
    "    # Shapiro-Wilk test\n",
    "    shapiro_stat, shapiro_p = stats.shapiro(data)\n",
    "    print(f\"Estadístico = {shapiro_stat:.4f}, p-valor = {shapiro_p:.4f}\")\n",
    "    if shapiro_p < 0.05:\n",
    "        print(f\"Los datos no provienen de una distribucion normal'{variable}'\")\n",
    "    else:\n",
    "        print(f\"Los datos provienen de una distribucion normal '{variable}'\")\n",
    "    return shapiro_stat, shapiro_p\n",
    "    \n",
    "    \n",
    "def random_test(residuos):\n",
    "    \"\"\"\n",
    "    Parameters\n",
    "    ----------\n",
    "    residuos : Array\n",
    "        DESCRIPTION: Residuos del ANOVA \n",
    "\n",
    "    Returns\n",
    "    -------\n",
    "    None.\n",
    "\n",
    "    \"\"\"\n",
    "    _, p_runs = runstest_1samp(residuos, correction=True)\n",
    "\n",
    "    print(f\"Prueba de Runs: p-valor={p_runs}\")\n",
    "    \n",
    "def test_homogeneityL(var1, var2, name1, name2): # Prueba de levene\n",
    "    \"\"\"\n",
    "    var1 y var2: variables a las que se corroborará homocedasticidad \n",
    "    name1 y name2: strings con el nnombre de las variables\n",
    "    \"\"\"\n",
    "    print(f\"\\n Análisis de homocedasticidad entre '{name1}' y '{name2}'\")\n",
    "\n",
    "    # Prueba de Levene (no asume normalidad)\n",
    "    levene_stat, levene_p = stats.levene(var1, var2)\n",
    "    print(f\"Levene test: Estadístico = {levene_stat:.4f}, p-valor = {levene_p:.4f}\")\n",
    "\n",
    "def t_test_one(data,mu,variable): #Prueba T para una muestra\n",
    "    \"\"\"\n",
    "    data: arreglo de datos a comparar\n",
    "    mu: media poblacional o valor de referencia \n",
    "    variable: string con el nombre de la variable que se está comparando\n",
    "    \"\"\"\n",
    "    print(f\"Prueba T para una sola muestra para {variable}\")\n",
    "    t_stat, p_value = stats.ttest_1samp(data, mu)\n",
    "    print(f\"Estadístico = {t_stat:.4f}, valor_p = {p_value:.4f}\")\n",
    "    \n",
    "def box_cox(data): #transformación depotencia   \n",
    "\n",
    "    transformed_data, lambda_opt = stats.boxcox(data)\n",
    "    return transformed_data, lambda_opt\n",
    "\n",
    "def tukey(respuesta,factor, alfa,n_factor):\n",
    "    \"\"\"\n",
    "\n",
    "    Parameters\n",
    "    ----------\n",
    "    respuesta : Array\n",
    "        DESCRIPTION. Array con los datos de la variable respuesta\n",
    "    factor : Array\n",
    "        DESCRIPTION.Array con los niveles del factor \n",
    "    alfa : Float\n",
    "        DESCRIPTION. Valor alfa de comparación \n",
    "    n_factor : String\n",
    "        DESCRIPTION. Nombre del factor\n",
    "\n",
    "    Returns\n",
    "    -------\n",
    "    None.\n",
    "\n",
    "    \"\"\"\n",
    "    \n",
    "    tukey = pairwise_tukeyhsd(respuesta, factor, alpha=alfa)\n",
    "    print(f\"Prueba Tukey para el factor {n_factor}\")\n",
    "    print(tukey)\n",
    "    \n",
    "def kruskal_W(df,Respuesta,Factor):\n",
    "    \"\"\"\n",
    "    \n",
    "    Parameters\n",
    "    ----------\n",
    "    df : Data_Frame\n",
    "        DESCRIPTION. estructura con los datos del experimento\n",
    "    Respuesta : String\n",
    "        DESCRIPTION. nombre de la variable respuesta, key del dataframe\n",
    "    Factor : String\n",
    "        DESCRIPTION. nombre del factor, key del dataframe\n",
    "\n",
    "    Returns\n",
    "    -------\n",
    "    None.\n",
    "\n",
    "    \"\"\"\n",
    "    grupos_B = [df[Respuesta][df[Factor] == nivel] for nivel in df[Factor].unique()]\n",
    "    stat_B, p_B = stats.kruskal(*grupos_B)\n",
    "    print(f\"Kruskal-Wallis para {Factor}: H = {stat_B:.4f}, p = {p_B:.4f}\")\n",
    "    \n",
    "    \n",
    "def kruskal_interaccion(df,Respuesta,Factor1,Factor2):\n",
    "    \"\"\"\n",
    "    \n",
    "\n",
    "    Parameters\n",
    "    ----------\n",
    "    df : Data_Frame\n",
    "        DESCRIPTION. estructura con los datos del experimento\n",
    "    Respuesta : String\n",
    "        DESCRIPTION. nombre de la variable respuesta, key del dataframe\n",
    "    Factor1 : String\n",
    "        DESCRIPTION. nombre del factor1, key del dataframe\n",
    "    Factor2 : String\n",
    "        DESCRIPTION.nombre del factor12, key del dataframe\n",
    "\n",
    "    Returns\n",
    "    -------\n",
    "    None.\n",
    "\n",
    "    \"\"\"\n",
    "def U_Mann_W (datos1,datos2):# pruba U Mann Withney\n",
    "    \"\"\"\n",
    "    datos1: primer set de datos a comparar\n",
    "    datos2: segundo set de datos a comparar\n",
    "    \"\"\"\n",
    "    # Prueba de Mann-Whitney\n",
    "    stat, p_value = mannwhitneyu(datos1, datos2, alternative='two-sided')\n",
    "    # Mostrar resultados\n",
    "    print(f\"Estadístico U: {stat}\")\n",
    "    print(f\"P-valor: {p_value:.4f}\")\n",
    "def t_test_paired (before,after):#prueba T para datos pareados\n",
    "    \"\"\"\n",
    "    before: variable antes \n",
    "    after: variable después\n",
    "    \"\"\"\n",
    "    \n",
    "    t_stat, p_value = ttest_rel(before, after)\n",
    "\n",
    "    # Mostrar resultados\n",
    "    \n",
    "    print(f\"Prueba t para muestras pareadas, P-valor: {p_value:.4f}\")\n",
    "def wilcoxon_test (data,mediana=0,y=None):# prueba Wilcoxon \n",
    "    \"\"\"\n",
    "    data: datos de la variable a comparar, puede ser la primera (antes) si se hara para dos\n",
    "    mediana=valor de la mediana estándar o de referencia, si la prueba es de dos muestras no se modifica mediana\n",
    "    y=los valores de la segunda variable a comparar (después), si la muestra es de solo una muestra, entonces None\n",
    "    \"\"\"\n",
    "    # Prueba de Wilcoxon (hipótesis:\n",
    "    stat, p_value = wilcoxon(data - mediana,y)\n",
    "    \n",
    "    print(f\"Estadístico de Wilcoxon: {stat:.4f}, p-valor: {p_value:.4f}\")\n",
    "def estadisticos(columna):  # Función que recibe una columna numérica (por ejemplo: 'AVE ORAL M')\n",
    "    # Convierte los datos a formato numérico, ignorando errores (por si hay strings u otros)\n",
    "    data = pd.to_numeric(columna, errors='coerce')\n",
    "\n",
    "    # Métricas centrales clásicas\n",
    "    media = data.mean()              # Media aritmética\n",
    "    mediana = data.median()         # Mediana (percentil 50)\n",
    "    moda = data.mode().iloc[0] if not data.mode().empty else np.nan  # Moda (si hay varias, toma la primera)\n",
    "\n",
    "    # Dispersión\n",
    "    sd = data.std()                 # Desviación estándar\n",
    "\n",
    "    # Desviación absoluta mediana (menos sensible a outliers que SD)\n",
    "    mad = median_abs_deviation(data, nan_policy='omit')\n",
    "\n",
    "    # Varianza (cuadrado de la desviación estándar)\n",
    "    varianza = data.var()\n",
    "\n",
    "    # Coeficiente de variación (SD respecto a la media) → útil para comparar dispersión relativa\n",
    "    cv = (sd / media) * 100\n",
    "\n",
    "    # Coeficiente de variación usando MAD (más robusto a outliers)\n",
    "    cvm = (mad / mediana) * 100\n",
    "\n",
    "    # Cuartiles\n",
    "    Q1 = data.quantile(0.25)        # Primer cuartil (percentil 25)\n",
    "    Q2 = data.quantile(0.5)         # Segundo cuartil (mediana)\n",
    "    Q3 = data.quantile(0.75)        # Tercer cuartil (percentil 75)\n",
    "\n",
    "    # Rango intercuartílico (IQR) = Q3 - Q1 → mide la dispersión entre el 25% y 75%\n",
    "    iqr_val = Q3 - Q1\n",
    "\n",
    "    # Cálculo de los límites para detectar outliers (regla de Tukey)\n",
    "    LInferior = Q1 - 1.5 * iqr_val  # Límite inferior\n",
    "    LSuperior = Q3 + 1.5 * iqr_val  # Límite superior\n",
    "\n",
    "\n",
    "    # Se agrupan todos los resultados en una Serie de pandas\n",
    "    stats = pd.Series({\n",
    "        \"Media\": media,\n",
    "        \"Mediana\": mediana,\n",
    "        \"Moda\": moda,\n",
    "        \"SD\": sd,\n",
    "        \"MAD\": mad,\n",
    "        \"Varianza\": varianza,\n",
    "        \"IQR\": iqr_val,\n",
    "        \"CV\": cv,\n",
    "        \"CVM\": cvm,\n",
    "        \"Q1\": Q1,\n",
    "        \"Q2\": Q2,\n",
    "        \"Q3\": Q3,\n",
    "        \"LInferior\": LInferior,\n",
    "        \"LSuperior\": LSuperior,\n",
    "    }).round(2)\n",
    "\n",
    "    return stats\n",
    "\n",
    "def outliers_(datos):\n",
    "        # Cuartiles\n",
    "    Q1 = datos.quantile(0.25)        # Primer cuartil (percentil 25)\n",
    "    Q2 = datos.quantile(0.5)         # Segundo cuartil (mediana)\n",
    "    Q3 = datos.quantile(0.75)        # Tercer cuartil (percentil 75)\n",
    "\n",
    "    # Rango intercuartílico (IQR) = Q3 - Q1 → mide la dispersión entre el 25% y 75%\n",
    "    iqr_val = Q3 - Q1\n",
    "\n",
    "    # Cálculo de los límites para detectar outliers (regla de Tukey)\n",
    "    LInferior = Q1 - 1.5 * iqr_val  # Límite inferior\n",
    "    LSuperior = Q3 + 1.5 * iqr_val  # Límite superior\n",
    "\n",
    "    # Detección de valores atípicos\n",
    "    outliers_ = datos[(datos < LInferior) | (datos > LSuperior)]\n",
    "    Outliers = outliers_.round(2) if not outliers_.empty else 'Sin outliers'\n",
    "    print(Outliers)\n",
    "    return Outliers"
   ]
  },
  {
   "cell_type": "markdown",
   "id": "c6931e83",
   "metadata": {},
   "source": [
    "## *Parte 1. Comparación de Muestras (50%)* \n",
    "**Se busca determinar si la técnica de medición de la temperatura con el \n",
    "termógrafo es equivalente al estándar de medición con un termómetro oral. \n",
    "Para esto deberá comparar 4 zonas diferentes de las evaluadas en el \n",
    "estudio, con la temperatura oral para determinar a través de pruebas de \n",
    "hipótesis si se trata de muestras equivalentes.  \n",
    "Como en todos los casos las mediciones se hicieron 4 veces, deberá \n",
    "encontrar el promedio de cada unas de las 4 zonas. **"
   ]
  },
  {
   "cell_type": "markdown",
   "id": "45620769",
   "metadata": {},
   "source": [
    "# **Analisis Exploratorio**"
   ]
  },
  {
   "cell_type": "code",
   "execution_count": 4,
   "id": "18228ca9",
   "metadata": {},
   "outputs": [
    {
     "data": {
      "application/vnd.microsoft.datawrangler.viewer.v0+json": {
       "columns": [
        {
         "name": "index",
         "rawType": "int64",
         "type": "integer"
        },
        {
         "name": "aveOralM",
         "rawType": "float64",
         "type": "float"
        },
        {
         "name": "MaxRProm",
         "rawType": "float64",
         "type": "float"
        },
        {
         "name": "MaxLProm",
         "rawType": "float64",
         "type": "float"
        },
        {
         "name": "T_MaxProm",
         "rawType": "float64",
         "type": "float"
        },
        {
         "name": "T_FHCCProm",
         "rawType": "float64",
         "type": "float"
        }
       ],
       "conversionMethod": "pd.DataFrame",
       "ref": "f5c8395e-c0df-43a4-878c-5984b1954c29",
       "rows": [
        [
         "0",
         "36.59",
         "35.03",
         "35.3775",
         "35.692499999999995",
         "33.5775"
        ],
        [
         "1",
         "37.19",
         "34.55",
         "34.52",
         "35.175",
         "34.0325"
        ],
        [
         "2",
         "37.34",
         "35.6525",
         "35.5175",
         "35.9125",
         "34.9"
        ],
        [
         "3",
         "37.09",
         "35.2225",
         "35.6125",
         "35.72",
         "34.44"
        ],
        [
         "4",
         "37.04",
         "35.545",
         "35.665",
         "35.894999999999996",
         "35.09"
        ],
        [
         "5",
         "36.99",
         "35.1325",
         "35.2025",
         "35.849999999999994",
         "34.1925"
        ],
        [
         "6",
         "36.59",
         "35.2825",
         "35.615",
         "35.8375",
         "33.4775"
        ],
        [
         "7",
         "36.49",
         "35.105000000000004",
         "34.87",
         "35.68",
         "33.727500000000006"
        ],
        [
         "8",
         "36.59",
         "35.307500000000005",
         "35.4225",
         "35.8525",
         "35.1475"
        ],
        [
         "9",
         "36.89",
         "35.89",
         "35.765",
         "36.205",
         "35.255"
        ],
        [
         "10",
         "36.54",
         "35.275000000000006",
         "35.199999999999996",
         "35.805",
         "34.0325"
        ],
        [
         "11",
         "36.74",
         "35.385000000000005",
         "35.045",
         "35.980000000000004",
         "33.28999999999999"
        ],
        [
         "12",
         "36.54",
         "35.572500000000005",
         "35.6",
         "35.875",
         "34.4825"
        ],
        [
         "13",
         "37.19",
         "35.3775",
         "35.682500000000005",
         "36.160000000000004",
         "34.335"
        ],
        [
         "14",
         "37.79",
         "36.2175",
         "36.5975",
         "37.11",
         "34.66499999999999"
        ],
        [
         "15",
         "36.49",
         "35.582499999999996",
         "35.68000000000001",
         "35.845",
         "34.0825"
        ],
        [
         "16",
         "37.09",
         "35.385000000000005",
         "35.269999999999996",
         "35.995",
         "33.7325"
        ],
        [
         "17",
         "37.19",
         "35.440000000000005",
         "35.64333333333334",
         "36.333333333333336",
         "33.99666666666666"
        ],
        [
         "18",
         "36.89",
         "34.7175",
         "34.9675",
         "35.8825",
         "34.0925"
        ],
        [
         "19",
         "36.54",
         "35.4925",
         "35.552499999999995",
         "35.785000000000004",
         "34.2675"
        ],
        [
         "20",
         "37.04",
         "35.00666666666667",
         "35.18333333333333",
         "35.57",
         "34.693333333333335"
        ],
        [
         "21",
         "37.04",
         "35.7",
         "35.852500000000006",
         "36.0625",
         "35.150000000000006"
        ],
        [
         "22",
         "36.14",
         "34.535",
         "34.905",
         "35.695",
         "34.375"
        ],
        [
         "23",
         "36.99",
         "34.977500000000006",
         "35.2",
         "35.775",
         "34.39"
        ],
        [
         "24",
         "37.09",
         "35.99",
         "36.1125",
         "36.24",
         "34.6575"
        ],
        [
         "25",
         "36.59",
         "34.87",
         "34.627500000000005",
         "35.63",
         "33.182500000000005"
        ],
        [
         "26",
         "36.89",
         "35.629999999999995",
         "36.1375",
         "36.195",
         "35.09"
        ],
        [
         "27",
         "36.64",
         "35.0925",
         "35.2675",
         "35.745",
         "33.9075"
        ],
        [
         "28",
         "37.14",
         "36.184999999999995",
         "35.9525",
         "36.2625",
         "34.575"
        ],
        [
         "29",
         "36.59",
         "35.055",
         "34.94",
         "35.572500000000005",
         "34.2675"
        ],
        [
         "30",
         "37.39",
         "35.9075",
         "35.730000000000004",
         "36.1325",
         "34.9775"
        ],
        [
         "31",
         "36.49",
         "35.05",
         "34.57",
         "35.7275",
         "34.12"
        ],
        [
         "32",
         "37.19",
         "35.9775",
         "35.9075",
         "36.2575",
         "33.735"
        ],
        [
         "33",
         "37.39",
         "34.8875",
         "34.9575",
         "35.96",
         "34.1775"
        ],
        [
         "34",
         "36.74",
         "34.892500000000005",
         "34.9675",
         "35.432500000000005",
         "33.275"
        ],
        [
         "35",
         "37.04",
         "35.9075",
         "35.82",
         "36.1775",
         "34.305"
        ],
        [
         "36",
         "36.59",
         "35.5925",
         "35.8075",
         "35.95",
         "34.7725"
        ],
        [
         "37",
         "37.29",
         "35.635",
         "35.84",
         "36.17",
         "34.665"
        ],
        [
         "38",
         "37.29",
         "35.1225",
         "35.4025",
         "36.082499999999996",
         "34.8775"
        ],
        [
         "39",
         "36.69",
         "35.114999999999995",
         "35.115",
         "35.8125",
         "34.095"
        ],
        [
         "40",
         "37.04",
         "36.1175",
         "35.962500000000006",
         "36.339999999999996",
         "34.495"
        ],
        [
         "41",
         "36.79",
         "35.5875",
         "35.745000000000005",
         "36.0325",
         "34.975"
        ],
        [
         "42",
         "37.04",
         "35.7325",
         "35.917500000000004",
         "36.1725",
         "34.8275"
        ],
        [
         "43",
         "35.99",
         "34.410000000000004",
         "35.0175",
         "35.4925",
         "33.705"
        ],
        [
         "44",
         "37.09",
         "35.4075",
         "35.504999999999995",
         "35.81",
         "34.3875"
        ],
        [
         "45",
         "36.74",
         "35.6625",
         "35.6675",
         "35.900000000000006",
         "34.2725"
        ],
        [
         "46",
         "36.84",
         "36.027499999999996",
         "35.7",
         "36.195",
         "34.697500000000005"
        ],
        [
         "47",
         "37.09",
         "35.845",
         "35.74",
         "36.28",
         "34.4625"
        ],
        [
         "48",
         "37.34",
         "36.5325",
         "36.0225",
         "36.677499999999995",
         "34.865"
        ],
        [
         "49",
         "36.94",
         "34.585",
         "34.835",
         "35.9875",
         "34.45"
        ]
       ],
       "shape": {
        "columns": 5,
        "rows": 1020
       }
      },
      "text/html": [
       "<div>\n",
       "<style scoped>\n",
       "    .dataframe tbody tr th:only-of-type {\n",
       "        vertical-align: middle;\n",
       "    }\n",
       "\n",
       "    .dataframe tbody tr th {\n",
       "        vertical-align: top;\n",
       "    }\n",
       "\n",
       "    .dataframe thead th {\n",
       "        text-align: right;\n",
       "    }\n",
       "</style>\n",
       "<table border=\"1\" class=\"dataframe\">\n",
       "  <thead>\n",
       "    <tr style=\"text-align: right;\">\n",
       "      <th></th>\n",
       "      <th>aveOralM</th>\n",
       "      <th>MaxRProm</th>\n",
       "      <th>MaxLProm</th>\n",
       "      <th>T_MaxProm</th>\n",
       "      <th>T_FHCCProm</th>\n",
       "    </tr>\n",
       "  </thead>\n",
       "  <tbody>\n",
       "    <tr>\n",
       "      <th>0</th>\n",
       "      <td>36.59</td>\n",
       "      <td>35.0300</td>\n",
       "      <td>35.3775</td>\n",
       "      <td>35.6925</td>\n",
       "      <td>33.5775</td>\n",
       "    </tr>\n",
       "    <tr>\n",
       "      <th>1</th>\n",
       "      <td>37.19</td>\n",
       "      <td>34.5500</td>\n",
       "      <td>34.5200</td>\n",
       "      <td>35.1750</td>\n",
       "      <td>34.0325</td>\n",
       "    </tr>\n",
       "    <tr>\n",
       "      <th>2</th>\n",
       "      <td>37.34</td>\n",
       "      <td>35.6525</td>\n",
       "      <td>35.5175</td>\n",
       "      <td>35.9125</td>\n",
       "      <td>34.9000</td>\n",
       "    </tr>\n",
       "    <tr>\n",
       "      <th>3</th>\n",
       "      <td>37.09</td>\n",
       "      <td>35.2225</td>\n",
       "      <td>35.6125</td>\n",
       "      <td>35.7200</td>\n",
       "      <td>34.4400</td>\n",
       "    </tr>\n",
       "    <tr>\n",
       "      <th>4</th>\n",
       "      <td>37.04</td>\n",
       "      <td>35.5450</td>\n",
       "      <td>35.6650</td>\n",
       "      <td>35.8950</td>\n",
       "      <td>35.0900</td>\n",
       "    </tr>\n",
       "    <tr>\n",
       "      <th>...</th>\n",
       "      <td>...</td>\n",
       "      <td>...</td>\n",
       "      <td>...</td>\n",
       "      <td>...</td>\n",
       "      <td>...</td>\n",
       "    </tr>\n",
       "    <tr>\n",
       "      <th>1015</th>\n",
       "      <td>36.99</td>\n",
       "      <td>35.6425</td>\n",
       "      <td>35.6525</td>\n",
       "      <td>36.0675</td>\n",
       "      <td>35.1075</td>\n",
       "    </tr>\n",
       "    <tr>\n",
       "      <th>1016</th>\n",
       "      <td>37.19</td>\n",
       "      <td>35.9825</td>\n",
       "      <td>35.7575</td>\n",
       "      <td>36.5000</td>\n",
       "      <td>35.3100</td>\n",
       "    </tr>\n",
       "    <tr>\n",
       "      <th>1017</th>\n",
       "      <td>37.59</td>\n",
       "      <td>36.4075</td>\n",
       "      <td>36.3400</td>\n",
       "      <td>36.5350</td>\n",
       "      <td>35.4350</td>\n",
       "    </tr>\n",
       "    <tr>\n",
       "      <th>1018</th>\n",
       "      <td>37.29</td>\n",
       "      <td>35.8150</td>\n",
       "      <td>35.5250</td>\n",
       "      <td>35.8600</td>\n",
       "      <td>34.8400</td>\n",
       "    </tr>\n",
       "    <tr>\n",
       "      <th>1019</th>\n",
       "      <td>37.19</td>\n",
       "      <td>35.7075</td>\n",
       "      <td>35.5825</td>\n",
       "      <td>35.9725</td>\n",
       "      <td>34.5475</td>\n",
       "    </tr>\n",
       "  </tbody>\n",
       "</table>\n",
       "<p>1020 rows × 5 columns</p>\n",
       "</div>"
      ],
      "text/plain": [
       "      aveOralM  MaxRProm  MaxLProm  T_MaxProm  T_FHCCProm\n",
       "0        36.59   35.0300   35.3775    35.6925     33.5775\n",
       "1        37.19   34.5500   34.5200    35.1750     34.0325\n",
       "2        37.34   35.6525   35.5175    35.9125     34.9000\n",
       "3        37.09   35.2225   35.6125    35.7200     34.4400\n",
       "4        37.04   35.5450   35.6650    35.8950     35.0900\n",
       "...        ...       ...       ...        ...         ...\n",
       "1015     36.99   35.6425   35.6525    36.0675     35.1075\n",
       "1016     37.19   35.9825   35.7575    36.5000     35.3100\n",
       "1017     37.59   36.4075   36.3400    36.5350     35.4350\n",
       "1018     37.29   35.8150   35.5250    35.8600     34.8400\n",
       "1019     37.19   35.7075   35.5825    35.9725     34.5475\n",
       "\n",
       "[1020 rows x 5 columns]"
      ]
     },
     "execution_count": 4,
     "metadata": {},
     "output_type": "execute_result"
    }
   ],
   "source": [
    "df=pd.read_csv('FLIR_groups1and2.csv', sep=';', header=2)\n",
    "df['MaxRProm']=df.loc[:, ['Max1R13_1','Max1R13_2','Max1R13_3','Max1R13_4']].mean(axis=1)\n",
    "df['MaxLProm']=df.loc[:, ['Max1L13_1','Max1L13_2','Max1L13_3','Max1L13_4']].mean(axis=1)\n",
    "df['T_MaxProm']=df.loc[:, ['T_Max1','T_Max2','T_Max3','T_Max4']].mean(axis=1)\n",
    "df['T_FHCCProm']=df.loc[:, ['T_FHCC1','T_FHCC2','T_FHCC3','T_FHCC4']].mean(axis=1)\n",
    "columnas=[\"aveOralM\",\"MaxRProm\",\"MaxLProm\",\"T_MaxProm\",\"T_FHCCProm\"]\n",
    "datos=pd.DataFrame()\n",
    "for i in columnas:\n",
    "  datos[i]=df[i]\n",
    "datos"
   ]
  },
  {
   "cell_type": "code",
   "execution_count": 5,
   "id": "e2718375",
   "metadata": {},
   "outputs": [
    {
     "name": "stdout",
     "output_type": "stream",
     "text": [
      "<class 'pandas.core.frame.DataFrame'>\n",
      "RangeIndex: 1020 entries, 0 to 1019\n",
      "Data columns (total 5 columns):\n",
      " #   Column      Non-Null Count  Dtype  \n",
      "---  ------      --------------  -----  \n",
      " 0   aveOralM    1020 non-null   float64\n",
      " 1   MaxRProm    1020 non-null   float64\n",
      " 2   MaxLProm    1020 non-null   float64\n",
      " 3   T_MaxProm   1020 non-null   float64\n",
      " 4   T_FHCCProm  1020 non-null   float64\n",
      "dtypes: float64(5)\n",
      "memory usage: 40.0 KB\n"
     ]
    }
   ],
   "source": [
    "datos.info()\n"
   ]
  },
  {
   "cell_type": "code",
   "execution_count": 6,
   "id": "59c921e5",
   "metadata": {},
   "outputs": [
    {
     "data": {
      "text/plain": [
       "Index(['aveOralM', 'MaxRProm', 'MaxLProm', 'T_MaxProm', 'T_FHCCProm'], dtype='object')"
      ]
     },
     "execution_count": 6,
     "metadata": {},
     "output_type": "execute_result"
    }
   ],
   "source": [
    "datos.columns"
   ]
  },
  {
   "cell_type": "code",
   "execution_count": 7,
   "id": "d61f88f3",
   "metadata": {},
   "outputs": [
    {
     "data": {
      "image/png": "[encoded data removed]",
      "text/plain": [
       "<Figure size 1400x1000 with 5 Axes>"
      ]
     },
     "metadata": {},
     "output_type": "display_data"
    }
   ],
   "source": [
    "# Se crea una figura general para alojar 4 gráficos de caja (boxplots)\n",
    "plt.figure(figsize=(14, 10))\n",
    "\n",
    "# ----------- Boxplot de 'aveOralM' (Temperatura oral promedio) -----------\n",
    "plt.subplot(3, 2, 1)  # Ubicación: fila 1, columna 1\n",
    "# Se crea un gráfico de caja horizontal con color de fondo azul claro\n",
    "plt.boxplot(df['aveOralM'], vert=False, patch_artist=True, boxprops=dict(facecolor='lightblue'))\n",
    "plt.title('Caja y bigotes de la Temperatura oral promedio.')\n",
    "plt.ylabel('aveOralM')  # Etiqueta del eje Y (aunque es horizontal)\n",
    "\n",
    "# ----------- Boxplot de 'T_atm' (Temperatura ambiente) -----------\n",
    "plt.subplot(3, 2, 2)  # Ubicación: fila 1, columna 2\n",
    "plt.boxplot(df['MaxRProm'], vert=False, patch_artist=True, boxprops=dict(facecolor='lightgreen'))\n",
    "plt.title('Caja y bigotes de la T° prom. del canto lateral del ojo derecho.')\n",
    "plt.ylabel('Max1R13_')\n",
    "\n",
    "# ----------- Boxplot de 'Humidity' (Humedad relativa) -----------\n",
    "plt.subplot(3, 2, 3)  # Ubicación: fila 2, columna 1\n",
    "plt.boxplot(df['MaxLProm'], vert=False, patch_artist=True, boxprops=dict(facecolor='lightgreen'))\n",
    "plt.title('Caja y bigotes de la T° prom. del canto lateral del ojo izquierdo.')\n",
    "plt.ylabel('Max1L13_')\n",
    "\n",
    "# ----------- Boxplot de 'Max1R13_' (Temperatura medida en el canto lateral del ojo derecho) -----------\n",
    "plt.subplot(3, 2, 4)  # Ubicación: fila 2, columna 2\n",
    "plt.boxplot(df['T_MaxProm'], vert=False, patch_artist=True, boxprops=dict(facecolor='lightgreen'))\n",
    "plt.title('Caja y bigotes de la T° máxima prom. de la cara.')\n",
    "plt.ylabel('T_Max')\n",
    "\n",
    "# ----------- Boxplot de 'Max1R13_' (Temperatura medida en el canto lateral del ojo derecho) -----------\n",
    "plt.subplot(3, 2, 5)  # Ubicación: fila 2, columna 2\n",
    "plt.boxplot(df['T_FHCCProm'], vert=False, patch_artist=True, boxprops=dict(facecolor='lightgreen'))\n",
    "plt.title('Caja y bigotes del punto central de la fuente.')\n",
    "plt.ylabel('T_FHCC')\n",
    "\n",
    "\n",
    "# Muestra todos los gráficos generados\n",
    "plt.tight_layout()   # Ajuste automático de los espacios entre los gráficos\n",
    "plt.show()"
   ]
  },
  {
   "cell_type": "code",
   "execution_count": 8,
   "id": "aaceb014",
   "metadata": {},
   "outputs": [
    {
     "data": {
      "application/vnd.microsoft.datawrangler.viewer.v0+json": {
       "columns": [
        {
         "name": "index",
         "rawType": "object",
         "type": "string"
        },
        {
         "name": "aveOralM",
         "rawType": "float64",
         "type": "float"
        },
        {
         "name": "MaxRProm",
         "rawType": "float64",
         "type": "float"
        },
        {
         "name": "MaxLProm",
         "rawType": "float64",
         "type": "float"
        },
        {
         "name": "T_MaxProm",
         "rawType": "float64",
         "type": "float"
        },
        {
         "name": "T_FHCCProm",
         "rawType": "float64",
         "type": "float"
        }
       ],
       "conversionMethod": "pd.DataFrame",
       "ref": "07f731b6-cfe2-4b51-88f1-8340a8c17cc8",
       "rows": [
        [
         "Media",
         "37.03",
         "35.6",
         "35.61",
         "36.08",
         "34.57"
        ],
        [
         "Mediana",
         "36.94",
         "35.55",
         "35.58",
         "36.03",
         "34.61"
        ],
        [
         "Moda",
         "36.89",
         "35.68",
         "35.66",
         "36.03",
         "34.41"
        ],
        [
         "SD",
         "0.51",
         "0.57",
         "0.55",
         "0.49",
         "0.67"
        ],
        [
         "MAD",
         "0.2",
         "0.31",
         "0.31",
         "0.25",
         "0.37"
        ],
        [
         "Varianza",
         "0.26",
         "0.33",
         "0.3",
         "0.24",
         "0.45"
        ],
        [
         "IQR",
         "0.36",
         "0.62",
         "0.61",
         "0.51",
         "0.75"
        ],
        [
         "CV",
         "1.38",
         "1.62",
         "1.54",
         "1.36",
         "1.94"
        ],
        [
         "CVM",
         "0.54",
         "0.87",
         "0.86",
         "0.7",
         "1.07"
        ],
        [
         "Q1",
         "36.78",
         "35.25",
         "35.27",
         "35.78",
         "34.21"
        ],
        [
         "Q2",
         "36.94",
         "35.55",
         "35.58",
         "36.03",
         "34.61"
        ],
        [
         "Q3",
         "37.14",
         "35.87",
         "35.88",
         "36.28",
         "34.97"
        ],
        [
         "LInferior",
         "36.23",
         "34.31",
         "34.36",
         "35.02",
         "33.08"
        ],
        [
         "LSuperior",
         "37.68",
         "36.81",
         "36.8",
         "37.04",
         "36.09"
        ]
       ],
       "shape": {
        "columns": 5,
        "rows": 14
       }
      },
      "text/html": [
       "<div>\n",
       "<style scoped>\n",
       "    .dataframe tbody tr th:only-of-type {\n",
       "        vertical-align: middle;\n",
       "    }\n",
       "\n",
       "    .dataframe tbody tr th {\n",
       "        vertical-align: top;\n",
       "    }\n",
       "\n",
       "    .dataframe thead th {\n",
       "        text-align: right;\n",
       "    }\n",
       "</style>\n",
       "<table border=\"1\" class=\"dataframe\">\n",
       "  <thead>\n",
       "    <tr style=\"text-align: right;\">\n",
       "      <th></th>\n",
       "      <th>aveOralM</th>\n",
       "      <th>MaxRProm</th>\n",
       "      <th>MaxLProm</th>\n",
       "      <th>T_MaxProm</th>\n",
       "      <th>T_FHCCProm</th>\n",
       "    </tr>\n",
       "  </thead>\n",
       "  <tbody>\n",
       "    <tr>\n",
       "      <th>Media</th>\n",
       "      <td>37.03</td>\n",
       "      <td>35.60</td>\n",
       "      <td>35.61</td>\n",
       "      <td>36.08</td>\n",
       "      <td>34.57</td>\n",
       "    </tr>\n",
       "    <tr>\n",
       "      <th>Mediana</th>\n",
       "      <td>36.94</td>\n",
       "      <td>35.55</td>\n",
       "      <td>35.58</td>\n",
       "      <td>36.03</td>\n",
       "      <td>34.61</td>\n",
       "    </tr>\n",
       "    <tr>\n",
       "      <th>Moda</th>\n",
       "      <td>36.89</td>\n",
       "      <td>35.68</td>\n",
       "      <td>35.66</td>\n",
       "      <td>36.03</td>\n",
       "      <td>34.41</td>\n",
       "    </tr>\n",
       "    <tr>\n",
       "      <th>SD</th>\n",
       "      <td>0.51</td>\n",
       "      <td>0.57</td>\n",
       "      <td>0.55</td>\n",
       "      <td>0.49</td>\n",
       "      <td>0.67</td>\n",
       "    </tr>\n",
       "    <tr>\n",
       "      <th>MAD</th>\n",
       "      <td>0.20</td>\n",
       "      <td>0.31</td>\n",
       "      <td>0.31</td>\n",
       "      <td>0.25</td>\n",
       "      <td>0.37</td>\n",
       "    </tr>\n",
       "    <tr>\n",
       "      <th>Varianza</th>\n",
       "      <td>0.26</td>\n",
       "      <td>0.33</td>\n",
       "      <td>0.30</td>\n",
       "      <td>0.24</td>\n",
       "      <td>0.45</td>\n",
       "    </tr>\n",
       "    <tr>\n",
       "      <th>IQR</th>\n",
       "      <td>0.36</td>\n",
       "      <td>0.62</td>\n",
       "      <td>0.61</td>\n",
       "      <td>0.51</td>\n",
       "      <td>0.75</td>\n",
       "    </tr>\n",
       "    <tr>\n",
       "      <th>CV</th>\n",
       "      <td>1.38</td>\n",
       "      <td>1.62</td>\n",
       "      <td>1.54</td>\n",
       "      <td>1.36</td>\n",
       "      <td>1.94</td>\n",
       "    </tr>\n",
       "    <tr>\n",
       "      <th>CVM</th>\n",
       "      <td>0.54</td>\n",
       "      <td>0.87</td>\n",
       "      <td>0.86</td>\n",
       "      <td>0.70</td>\n",
       "      <td>1.07</td>\n",
       "    </tr>\n",
       "    <tr>\n",
       "      <th>Q1</th>\n",
       "      <td>36.78</td>\n",
       "      <td>35.25</td>\n",
       "      <td>35.27</td>\n",
       "      <td>35.78</td>\n",
       "      <td>34.21</td>\n",
       "    </tr>\n",
       "    <tr>\n",
       "      <th>Q2</th>\n",
       "      <td>36.94</td>\n",
       "      <td>35.55</td>\n",
       "      <td>35.58</td>\n",
       "      <td>36.03</td>\n",
       "      <td>34.61</td>\n",
       "    </tr>\n",
       "    <tr>\n",
       "      <th>Q3</th>\n",
       "      <td>37.14</td>\n",
       "      <td>35.87</td>\n",
       "      <td>35.88</td>\n",
       "      <td>36.28</td>\n",
       "      <td>34.97</td>\n",
       "    </tr>\n",
       "    <tr>\n",
       "      <th>LInferior</th>\n",
       "      <td>36.23</td>\n",
       "      <td>34.31</td>\n",
       "      <td>34.36</td>\n",
       "      <td>35.02</td>\n",
       "      <td>33.08</td>\n",
       "    </tr>\n",
       "    <tr>\n",
       "      <th>LSuperior</th>\n",
       "      <td>37.68</td>\n",
       "      <td>36.81</td>\n",
       "      <td>36.80</td>\n",
       "      <td>37.04</td>\n",
       "      <td>36.09</td>\n",
       "    </tr>\n",
       "  </tbody>\n",
       "</table>\n",
       "</div>"
      ],
      "text/plain": [
       "           aveOralM  MaxRProm  MaxLProm  T_MaxProm  T_FHCCProm\n",
       "Media         37.03     35.60     35.61      36.08       34.57\n",
       "Mediana       36.94     35.55     35.58      36.03       34.61\n",
       "Moda          36.89     35.68     35.66      36.03       34.41\n",
       "SD             0.51      0.57      0.55       0.49        0.67\n",
       "MAD            0.20      0.31      0.31       0.25        0.37\n",
       "Varianza       0.26      0.33      0.30       0.24        0.45\n",
       "IQR            0.36      0.62      0.61       0.51        0.75\n",
       "CV             1.38      1.62      1.54       1.36        1.94\n",
       "CVM            0.54      0.87      0.86       0.70        1.07\n",
       "Q1            36.78     35.25     35.27      35.78       34.21\n",
       "Q2            36.94     35.55     35.58      36.03       34.61\n",
       "Q3            37.14     35.87     35.88      36.28       34.97\n",
       "LInferior     36.23     34.31     34.36      35.02       33.08\n",
       "LSuperior     37.68     36.81     36.80      37.04       36.09"
      ]
     },
     "execution_count": 8,
     "metadata": {},
     "output_type": "execute_result"
    }
   ],
   "source": [
    "#Cálculo de estadisticos:\n",
    "stadistics = pd.DataFrame()\n",
    "for i in datos.columns:\n",
    "    stadistics[i] = estadisticos(datos[i])\n",
    "stadistics\n"
   ]
  },
  {
   "cell_type": "code",
   "execution_count": 9,
   "id": "f5e193ae",
   "metadata": {},
   "outputs": [
    {
     "name": "stdout",
     "output_type": "stream",
     "text": [
      "14      37.79\n",
      "22      36.14\n",
      "43      35.99\n",
      "59      37.79\n",
      "66      37.99\n",
      "        ...  \n",
      "955     38.39\n",
      "958     37.94\n",
      "976     37.69\n",
      "998     38.74\n",
      "1011    37.79\n",
      "Name: aveOralM, Length: 108, dtype: float64\n",
      "None\n",
      "72     37.33\n",
      "78     36.84\n",
      "81     37.16\n",
      "122    38.33\n",
      "132    37.43\n",
      "136    37.54\n",
      "155    36.88\n",
      "156    37.36\n",
      "166    34.00\n",
      "261    37.57\n",
      "262    37.47\n",
      "292    37.11\n",
      "301    37.42\n",
      "342    34.27\n",
      "389    33.92\n",
      "495    37.68\n",
      "533    37.35\n",
      "560    36.87\n",
      "645    37.84\n",
      "648    37.83\n",
      "688    37.27\n",
      "691    36.83\n",
      "697    37.20\n",
      "699    36.93\n",
      "708    36.94\n",
      "709    36.98\n",
      "712    37.62\n",
      "731    37.24\n",
      "749    36.90\n",
      "751    36.88\n",
      "761    37.32\n",
      "770    37.06\n",
      "799    38.08\n",
      "800    37.71\n",
      "837    37.12\n",
      "839    37.87\n",
      "845    37.13\n",
      "874    38.40\n",
      "883    34.31\n",
      "897    33.90\n",
      "958    37.12\n",
      "998    37.21\n",
      "Name: MaxRProm, dtype: float64\n",
      "None\n",
      "81     36.94\n",
      "122    38.03\n",
      "132    37.17\n",
      "136    37.33\n",
      "149    34.35\n",
      "156    37.46\n",
      "261    37.92\n",
      "262    37.17\n",
      "274    34.26\n",
      "292    37.38\n",
      "358    36.97\n",
      "374    34.34\n",
      "490    36.92\n",
      "495    37.66\n",
      "533    37.08\n",
      "645    37.94\n",
      "648    37.93\n",
      "688    37.44\n",
      "691    36.93\n",
      "697    37.14\n",
      "708    37.07\n",
      "712    37.13\n",
      "721    37.07\n",
      "731    36.96\n",
      "751    36.99\n",
      "753    37.30\n",
      "761    37.29\n",
      "770    37.22\n",
      "774    36.82\n",
      "785    36.99\n",
      "799    38.04\n",
      "800    37.37\n",
      "813    34.12\n",
      "837    36.98\n",
      "839    37.22\n",
      "844    37.10\n",
      "845    36.98\n",
      "874    38.03\n",
      "883    34.14\n",
      "927    34.21\n",
      "958    36.92\n",
      "976    36.87\n",
      "998    37.24\n",
      "Name: MaxLProm, dtype: float64\n",
      "None\n",
      "14     37.11\n",
      "72     37.57\n",
      "78     37.46\n",
      "81     37.47\n",
      "122    38.81\n",
      "132    37.43\n",
      "136    37.78\n",
      "139    37.07\n",
      "155    37.08\n",
      "156    37.70\n",
      "166    34.98\n",
      "205    34.95\n",
      "261    37.94\n",
      "262    37.63\n",
      "292    37.76\n",
      "301    37.75\n",
      "314    37.21\n",
      "358    37.26\n",
      "477    34.89\n",
      "487    37.42\n",
      "490    37.96\n",
      "495    37.73\n",
      "533    37.51\n",
      "645    38.18\n",
      "648    38.32\n",
      "650    37.20\n",
      "686    37.15\n",
      "688    37.47\n",
      "691    37.34\n",
      "697    37.32\n",
      "708    37.13\n",
      "709    37.45\n",
      "712    37.97\n",
      "721    37.07\n",
      "731    37.46\n",
      "749    37.15\n",
      "751    37.06\n",
      "753    37.48\n",
      "754    37.04\n",
      "761    37.86\n",
      "770    37.28\n",
      "785    37.28\n",
      "799    38.15\n",
      "800    37.81\n",
      "804    37.17\n",
      "809    37.11\n",
      "814    37.09\n",
      "836    37.05\n",
      "837    37.24\n",
      "839    37.99\n",
      "844    37.60\n",
      "845    37.58\n",
      "867    37.35\n",
      "874    38.42\n",
      "955    37.44\n",
      "958    37.13\n",
      "998    37.39\n",
      "Name: T_MaxProm, dtype: float64\n",
      "None\n",
      "81     36.29\n",
      "99     32.18\n",
      "122    36.74\n",
      "132    36.32\n",
      "149    31.38\n",
      "156    36.17\n",
      "159    32.85\n",
      "166    31.05\n",
      "215    31.74\n",
      "230    32.09\n",
      "261    36.59\n",
      "272    31.99\n",
      "292    36.14\n",
      "303    32.86\n",
      "374    32.79\n",
      "389    32.98\n",
      "490    36.53\n",
      "545    32.97\n",
      "560    36.29\n",
      "613    31.98\n",
      "624    33.00\n",
      "628    32.83\n",
      "645    36.20\n",
      "654    32.97\n",
      "661    32.74\n",
      "709    36.34\n",
      "712    36.81\n",
      "761    36.24\n",
      "785    36.49\n",
      "799    37.12\n",
      "800    36.56\n",
      "874    36.89\n",
      "924    32.71\n",
      "940    32.88\n",
      "947    33.02\n",
      "998    36.17\n",
      "999    32.87\n",
      "Name: T_FHCCProm, dtype: float64\n",
      "None\n"
     ]
    }
   ],
   "source": [
    "#Outliers:\n",
    "for i in datos.columns:\n",
    "    print( outliers_(datos[i]))"
   ]
  },
  {
   "cell_type": "code",
   "execution_count": 10,
   "id": "c92ff7a6",
   "metadata": {},
   "outputs": [
    {
     "data": {
      "image/png": "[encoded data removed]",
      "text/plain": [
       "<Figure size 1000x800 with 2 Axes>"
      ]
     },
     "metadata": {},
     "output_type": "display_data"
    }
   ],
   "source": [
    "# Calcular la matriz de correlación solo para columnas numéricas del DataFrame 'df'\n",
    "matriz_corr = datos.corr(numeric_only=True)  # Evita errores al excluir columnas no numéricas\n",
    "\n",
    "# # Imprimir la matriz de correlación en consola\n",
    "# print(matriz_corr)\n",
    "\n",
    "# Crear una nueva figura con un tamaño específico\n",
    "plt.figure(figsize=(10, 8))\n",
    "\n",
    "# Generar un mapa de calor (heatmap) con la matriz de correlación\n",
    "# - annot=True muestra los valores en cada celda\n",
    "# - cmap='coolwarm' usa una paleta de colores que va del azul (negativo) al rojo (positivo)\n",
    "# - fmt=\".2f\" limita los valores a 2 decimales\n",
    "sns.heatmap(matriz_corr, annot=True, cmap='coolwarm', fmt=\".2f\")\n",
    "\n",
    "# Título del gráfico\n",
    "plt.title(\"Matriz de Correlación\")\n",
    "\n",
    "# Mostrar el gráfico\n",
    "plt.show()\n"
   ]
  },
  {
   "cell_type": "markdown",
   "id": "3ab6e63c",
   "metadata": {},
   "source": [
    "# **Análisis para pruebas parametricas y NO parametricas**"
   ]
  },
  {
   "cell_type": "markdown",
   "id": "b60601b2",
   "metadata": {},
   "source": [
    "Cuando obtenemos una muestra de datos, es importante determinar si el efecto observado podría deberse al azar. Para ello, se realizan pruebas estadísticas y se comparan los resultados con un valor de referencia, normalmente basado en una distribución normal. Este tipo de prueba se denomina prueba de hipótesis para dos muestras.\n"
   ]
  },
  {
   "cell_type": "markdown",
   "id": "e52cdec1",
   "metadata": {},
   "source": [
    "La prueba t permite conocer si la media de una muestra difiere o no a un valor de referencia. Su supuesto es de que los datos son normales. Este tipo de prueba parten del analisis de realizar pruebas parametricas o no, si el supuesto de la prueba es normalidad y homogeneidad de varianza se realiza pruebas parametricas, en caso contrario, realizamos pruebas no parametricas."
   ]
  },
  {
   "cell_type": "markdown",
   "id": "ae471bb8",
   "metadata": {},
   "source": [
    "Para aplicar pruebas paramétricas es necesario evaluar ciertos supuestos, entre ellos la independencia de las observaciones. En este caso, se concluye que las variables no son independientes, ya que corresponden a mediciones de temperatura realizadas en distintas partes del rostro de un mismo sujeto. Estas mediciones están relacionadas entre sí, dado que reflejan el mismo estado fisiológico. Por ejemplo, si un individuo presenta fiebre, se espera que todas las temperaturas tomadas en diferentes zonas corporales estén influenciadas por esta condición sistémica. Por tanto, las variables dependen del estado del sujeto y entre sí.\n",
    "\n",
    "- AveOralM: Temperatura oral\n",
    "- Max1R13: Temperatura maxima de la cuenca del ojo derecho \n",
    "- Max1L13: Temperatura maxima de la cuenca del ojo izquierdo\n",
    "- T_FHCC : Temperatura promedio en el centro de la frente\n",
    "- T_max : Temperatura maxima del rostro \n",
    "\n",
    "Realizamos la prueba T de muestras pareadas, y wilcoxon en temperatura oral promedio  y temperatura ya que no siguen una distribucion normal."
   ]
  },
  {
   "cell_type": "code",
   "execution_count": null,
   "id": "dace4f04",
   "metadata": {},
   "outputs": [
    {
     "name": "stdout",
     "output_type": "stream",
     "text": [
      "\n",
      " Análisis de normalidad por Kolmogorov-Smirnov para 'Normalidad de las diferencias entre aveOralM y MaxRProm'\n",
      " Estadístico = 0.0298, p-valor = 0.3196\n",
      "Los datos provienen de una distribucion normal 'Normalidad de las diferencias entre aveOralM y MaxRProm'\n",
      "\n",
      " Análisis de normalidad por Kolmogorov-Smirnov para 'Normalidad de las diferencias entre aveOralM y MaxLProm'\n",
      " Estadístico = 0.0312, p-valor = 0.2671\n",
      "Los datos provienen de una distribucion normal 'Normalidad de las diferencias entre aveOralM y MaxLProm'\n",
      "\n",
      " Análisis de normalidad por Kolmogorov-Smirnov para 'Normalidad de las diferencias entre aveOralM y T_MaxProm'\n",
      " Estadístico = 0.0286, p-valor = 0.3668\n",
      "Los datos provienen de una distribucion normal 'Normalidad de las diferencias entre aveOralM y T_MaxProm'\n",
      "\n",
      " Análisis de normalidad por Kolmogorov-Smirnov para 'Normalidad de las diferencias entre aveOralM y T_FHCCProm'\n",
      " Estadístico = 0.0664, p-valor = 0.0002\n",
      "Los datos no provienen de una distribucion normal'Normalidad de las diferencias entre aveOralM y T_FHCCProm'\n",
      "Prueba t para muestras pareadas, P-valor: 0.0000\n",
      "Prueba t para muestras pareadas, P-valor: 0.0000\n",
      "Prueba t para muestras pareadas, P-valor: 0.0000\n",
      "99     4.31\n",
      "149    5.21\n",
      "159    3.99\n",
      "166    5.39\n",
      "215    5.60\n",
      "230    4.50\n",
      "272    5.90\n",
      "303    4.08\n",
      "374    3.90\n",
      "384    4.30\n",
      "387    3.84\n",
      "437    4.27\n",
      "466    3.92\n",
      "545    3.82\n",
      "613    4.56\n",
      "624    4.44\n",
      "686    4.62\n",
      "828    4.26\n",
      "903    4.05\n",
      "924    4.53\n",
      "955    5.26\n",
      "999    4.22\n",
      "Name: Dif4, dtype: float64\n",
      "99     4.31\n",
      "149    5.21\n",
      "159    3.99\n",
      "166    5.39\n",
      "215    5.60\n",
      "230    4.50\n",
      "272    5.90\n",
      "303    4.08\n",
      "374    3.90\n",
      "384    4.30\n",
      "387    3.84\n",
      "437    4.27\n",
      "466    3.92\n",
      "545    3.82\n",
      "613    4.56\n",
      "624    4.44\n",
      "686    4.62\n",
      "828    4.26\n",
      "903    4.05\n",
      "924    4.53\n",
      "955    5.26\n",
      "999    4.22\n",
      "Name: Dif4, dtype: float64\n",
      "El número de outliers es: 22\n",
      "\n",
      " Análisis de normalidad por Kolmogorov-Smirnov para 'Normalidad de las diferencias entre aveOralM y T_FHCCProm'\n",
      " Estadístico = 0.0664, p-valor = 0.0002\n",
      "Los datos no provienen de una distribucion normal'Normalidad de las diferencias entre aveOralM y T_FHCCProm'\n"
     ]
    },
    {
     "data": {
      "text/plain": [
       "(np.float64(0.06641767651833164), np.float64(0.00023471623625890423))"
      ]
     },
     "execution_count": 31,
     "metadata": {},
     "output_type": "execute_result"
    }
   ],
   "source": [
    "#Diferencia entre la temperatura corporal promedio y la temperatura medida en diferentes secciones del rostro       \n",
    "\n",
    "datos['Dif1'] = datos['aveOralM'] - datos['MaxRProm']\n",
    "datos['Dif2']= datos['aveOralM'] - datos['MaxLProm']\n",
    "datos['Dif3'] = datos['aveOralM'] - datos['T_MaxProm']\n",
    "datos['Dif4'] = datos['aveOralM'] - datos['T_FHCCProm']\n",
    "\n",
    "# Realizamos la prueba de normalidad de Kolmogorov-Smirnov para las diferencias\n",
    "\n",
    "test_normalityKS(datos['Dif1'], 'Normalidad de las diferencias entre aveOralM y MaxRProm')\n",
    "test_normalityKS(datos['Dif2'], 'Normalidad de las diferencias entre aveOralM y MaxLProm')\n",
    "test_normalityKS(datos['Dif3'], 'Normalidad de las diferencias entre aveOralM y T_MaxProm')\n",
    "test_normalityKS(datos['Dif4'], 'Normalidad de las diferencias entre aveOralM y T_FHCCProm')\n",
    "\n",
    "# Realizamos la prueba t de muestras pareadas para las variables que siguen el supuesto de normalidad\n",
    "\n",
    "t_test_paired(datos['aveOralM'], datos['MaxRProm'])\n",
    "t_test_paired(datos['aveOralM'], datos['MaxLProm'])\n",
    "t_test_paired(datos['aveOralM'], datos['T_MaxProm'])\n",
    "\n",
    "#Prueba de Wilcoxon para las variables que no siguen el supuesto de normalidad\n",
    "#Transformación de Box-Cox para la variable T_FHCCProm y la variable aveOralM\n",
    "dn,l=box_cox(datos['aveOralM'])\n",
    "dn2=(datos['T_FHCCProm'])**l\n",
    "datos['Dif40']=(dn-dn2)\n",
    "# Realizamos la prueba de wilcoxon ya que no cumple con el supuesto de normalidad para pruebas parametricas\n",
    "wilcoxon(datos['aveOralM'],datos['T_FHCCProm'])\n",
    "\n",
    "# Se trata de eliminar los outliers de la muestra de datos \n",
    "# estadisticos(datos['Dif4'])\n",
    "# OU=outliers_(datos['Dif4'])\n",
    "# size = len(outliers_(datos['Dif4']))\n",
    "# print(f\"El número de outliers es: {size}\")\n",
    "# datos_filtrados = datos[~datos['Dif4'].index.isin(OU.index)]\n",
    "# test_normalityKS(datos['Dif4'], 'Normalidad de las diferencias entre aveOralM y T_FHCCProm')\n"
   ]
  },
  {
   "cell_type": "markdown",
   "id": "d46fda8a",
   "metadata": {},
   "source": [
    "Al realizar las pruebas estadísticas se encontró que la media de la temperatura oral difiere significativamente con respecto a las demás variables. Esto indica que las temperaturas medidas en distintas secciones del rostro presentan diferencias estadísticamente significativas. A partir de estos resultados, se infiere que la temperatura registrada mediante el termógrafo infrarrojo varía dependiendo del sitio de medición facial, lo que sugiere una posible limitación en la consistencia de las lecturas según la zona evaluada. \n",
    "El valor p cercano a cero en la prueba t para muestras pareadas indica que la probabilidad de que las diferencias observadas ocurran por azar es prácticamente nula. Al intentar eliminar los valores atípicos directamente desde las muestras originales, la distribución de los datos continúa sin ajustarse a una distribución normal, lo que demuestra que dicha eliminación no genera un cambio significativo en la normalidad. Incluso después de aplicar una transformación de Box-Cox, los datos no alcanzan la normalidad. Por ello, se optó por aplicar la prueba no paramétrica de Wilcoxon, la cual confirmó que existe una diferencia significativa cuando la temperatura es medida con el termógrafo infrarrojo."
   ]
  },
  {
   "cell_type": "markdown",
   "id": "ddd85b7c",
   "metadata": {},
   "source": [
    "# ***Parte 2: Análisis de Varianza***"
   ]
  },
  {
   "cell_type": "markdown",
   "id": "81a3eab9",
   "metadata": {},
   "source": [
    "Factores del Experimento: \n",
    "* Recubrimiento de la Nanopartícula: 3 para ausente y 4 con recubrimiento de PEG.   \n",
    "* Tiempo de exposición: 1 o 7 días  \n",
    "* Estímulo: 1 y 2 (dos diferentes estímulos) \n",
    "* **Variable Respuesta:** Porcentaje de viabilidad celular. "
   ]
  },
  {
   "cell_type": "code",
   "execution_count": 12,
   "id": "7593d244",
   "metadata": {},
   "outputs": [
    {
     "data": {
      "application/vnd.microsoft.datawrangler.viewer.v0+json": {
       "columns": [
        {
         "name": "index",
         "rawType": "int64",
         "type": "integer"
        },
        {
         "name": "Bloque2",
         "rawType": "int64",
         "type": "integer"
        },
        {
         "name": "Estimulo2",
         "rawType": "int64",
         "type": "integer"
        },
        {
         "name": "Tiempo2",
         "rawType": "int64",
         "type": "integer"
        },
        {
         "name": "Viabilidad2",
         "rawType": "float64",
         "type": "float"
        }
       ],
       "conversionMethod": "pd.DataFrame",
       "ref": "4c94bf6f-1963-41a6-9790-93770114e054",
       "rows": [
        [
         "0",
         "3",
         "1",
         "7",
         "59.75155279503107"
        ],
        [
         "1",
         "3",
         "1",
         "1",
         "75.0418760469012"
        ],
        [
         "2",
         "3",
         "2",
         "1",
         "75.37688442211056"
        ],
        [
         "3",
         "3",
         "1",
         "7",
         "80.17188459177409"
        ],
        [
         "4",
         "3",
         "1",
         "7",
         "80.17188459177409"
        ],
        [
         "5",
         "3",
         "2",
         "7",
         "82.60869565217392"
        ],
        [
         "6",
         "3",
         "2",
         "1",
         "88.92128279883381"
        ],
        [
         "7",
         "3",
         "2",
         "7",
         "89.25721301411907"
        ],
        [
         "8",
         "3",
         "2",
         "7",
         "89.25721301411907"
        ],
        [
         "9",
         "3",
         "1",
         "1",
         "91.48936170212768"
        ]
       ],
       "shape": {
        "columns": 4,
        "rows": 10
       }
      },
      "text/html": [
       "<div>\n",
       "<style scoped>\n",
       "    .dataframe tbody tr th:only-of-type {\n",
       "        vertical-align: middle;\n",
       "    }\n",
       "\n",
       "    .dataframe tbody tr th {\n",
       "        vertical-align: top;\n",
       "    }\n",
       "\n",
       "    .dataframe thead th {\n",
       "        text-align: right;\n",
       "    }\n",
       "</style>\n",
       "<table border=\"1\" class=\"dataframe\">\n",
       "  <thead>\n",
       "    <tr style=\"text-align: right;\">\n",
       "      <th></th>\n",
       "      <th>Bloque2</th>\n",
       "      <th>Estimulo2</th>\n",
       "      <th>Tiempo2</th>\n",
       "      <th>Viabilidad2</th>\n",
       "    </tr>\n",
       "  </thead>\n",
       "  <tbody>\n",
       "    <tr>\n",
       "      <th>0</th>\n",
       "      <td>3</td>\n",
       "      <td>1</td>\n",
       "      <td>7</td>\n",
       "      <td>59.751553</td>\n",
       "    </tr>\n",
       "    <tr>\n",
       "      <th>1</th>\n",
       "      <td>3</td>\n",
       "      <td>1</td>\n",
       "      <td>1</td>\n",
       "      <td>75.041876</td>\n",
       "    </tr>\n",
       "    <tr>\n",
       "      <th>2</th>\n",
       "      <td>3</td>\n",
       "      <td>2</td>\n",
       "      <td>1</td>\n",
       "      <td>75.376884</td>\n",
       "    </tr>\n",
       "    <tr>\n",
       "      <th>3</th>\n",
       "      <td>3</td>\n",
       "      <td>1</td>\n",
       "      <td>7</td>\n",
       "      <td>80.171885</td>\n",
       "    </tr>\n",
       "    <tr>\n",
       "      <th>4</th>\n",
       "      <td>3</td>\n",
       "      <td>1</td>\n",
       "      <td>7</td>\n",
       "      <td>80.171885</td>\n",
       "    </tr>\n",
       "    <tr>\n",
       "      <th>5</th>\n",
       "      <td>3</td>\n",
       "      <td>2</td>\n",
       "      <td>7</td>\n",
       "      <td>82.608696</td>\n",
       "    </tr>\n",
       "    <tr>\n",
       "      <th>6</th>\n",
       "      <td>3</td>\n",
       "      <td>2</td>\n",
       "      <td>1</td>\n",
       "      <td>88.921283</td>\n",
       "    </tr>\n",
       "    <tr>\n",
       "      <th>7</th>\n",
       "      <td>3</td>\n",
       "      <td>2</td>\n",
       "      <td>7</td>\n",
       "      <td>89.257213</td>\n",
       "    </tr>\n",
       "    <tr>\n",
       "      <th>8</th>\n",
       "      <td>3</td>\n",
       "      <td>2</td>\n",
       "      <td>7</td>\n",
       "      <td>89.257213</td>\n",
       "    </tr>\n",
       "    <tr>\n",
       "      <th>9</th>\n",
       "      <td>3</td>\n",
       "      <td>1</td>\n",
       "      <td>1</td>\n",
       "      <td>91.489362</td>\n",
       "    </tr>\n",
       "  </tbody>\n",
       "</table>\n",
       "</div>"
      ],
      "text/plain": [
       "   Bloque2  Estimulo2  Tiempo2  Viabilidad2\n",
       "0        3          1        7    59.751553\n",
       "1        3          1        1    75.041876\n",
       "2        3          2        1    75.376884\n",
       "3        3          1        7    80.171885\n",
       "4        3          1        7    80.171885\n",
       "5        3          2        7    82.608696\n",
       "6        3          2        1    88.921283\n",
       "7        3          2        7    89.257213\n",
       "8        3          2        7    89.257213\n",
       "9        3          1        1    91.489362"
      ]
     },
     "execution_count": 12,
     "metadata": {},
     "output_type": "execute_result"
    }
   ],
   "source": [
    "#Importación del excel.\n",
    "df1=pd.read_excel(\"A375.xlsx\")\n",
    "df1.head(10)\n"
   ]
  },
  {
   "cell_type": "code",
   "execution_count": 13,
   "id": "76423c94",
   "metadata": {},
   "outputs": [
    {
     "name": "stdout",
     "output_type": "stream",
     "text": [
      "<class 'pandas.core.frame.DataFrame'>\n",
      "RangeIndex: 24 entries, 0 to 23\n",
      "Data columns (total 4 columns):\n",
      " #   Column       Non-Null Count  Dtype  \n",
      "---  ------       --------------  -----  \n",
      " 0   Bloque2      24 non-null     int64  \n",
      " 1   Estimulo2    24 non-null     int64  \n",
      " 2   Tiempo2      24 non-null     int64  \n",
      " 3   Viabilidad2  24 non-null     float64\n",
      "dtypes: float64(1), int64(3)\n",
      "memory usage: 900.0 bytes\n"
     ]
    }
   ],
   "source": [
    "df1.info()"
   ]
  },
  {
   "cell_type": "code",
   "execution_count": 14,
   "id": "6e2829f5",
   "metadata": {},
   "outputs": [
    {
     "data": {
      "text/plain": [
       "(24, 4)"
      ]
     },
     "execution_count": 14,
     "metadata": {},
     "output_type": "execute_result"
    }
   ],
   "source": [
    "df1.shape"
   ]
  },
  {
   "cell_type": "code",
   "execution_count": 15,
   "id": "130fbdbb",
   "metadata": {},
   "outputs": [
    {
     "data": {
      "text/plain": [
       "Index(['Bloque2', 'Estimulo2', 'Tiempo2', 'Viabilidad2'], dtype='object')"
      ]
     },
     "execution_count": 15,
     "metadata": {},
     "output_type": "execute_result"
    }
   ],
   "source": [
    "df1.columns"
   ]
  },
  {
   "cell_type": "code",
   "execution_count": 16,
   "id": "64c891b0",
   "metadata": {},
   "outputs": [
    {
     "data": {
      "application/vnd.microsoft.datawrangler.viewer.v0+json": {
       "columns": [
        {
         "name": "index",
         "rawType": "object",
         "type": "string"
        },
        {
         "name": "Viabilidad",
         "rawType": "float64",
         "type": "float"
        }
       ],
       "conversionMethod": "pd.DataFrame",
       "ref": "e5e0aaa9-0d06-4c82-bc04-6a95e209a5b3",
       "rows": [
        [
         "Media",
         "101.88"
        ],
        [
         "Mediana",
         "98.61"
        ],
        [
         "Moda",
         "80.17"
        ],
        [
         "SD",
         "23.55"
        ],
        [
         "MAD",
         "18.06"
        ],
        [
         "Varianza",
         "554.72"
        ],
        [
         "IQR",
         "31.39"
        ],
        [
         "CV",
         "23.12"
        ],
        [
         "CVM",
         "18.31"
        ],
        [
         "Q1",
         "87.34"
        ],
        [
         "Q2",
         "98.61"
        ],
        [
         "Q3",
         "118.73"
        ],
        [
         "LInferior",
         "40.26"
        ],
        [
         "LSuperior",
         "165.81"
        ]
       ],
       "shape": {
        "columns": 1,
        "rows": 14
       }
      },
      "text/html": [
       "<div>\n",
       "<style scoped>\n",
       "    .dataframe tbody tr th:only-of-type {\n",
       "        vertical-align: middle;\n",
       "    }\n",
       "\n",
       "    .dataframe tbody tr th {\n",
       "        vertical-align: top;\n",
       "    }\n",
       "\n",
       "    .dataframe thead th {\n",
       "        text-align: right;\n",
       "    }\n",
       "</style>\n",
       "<table border=\"1\" class=\"dataframe\">\n",
       "  <thead>\n",
       "    <tr style=\"text-align: right;\">\n",
       "      <th></th>\n",
       "      <th>Viabilidad</th>\n",
       "    </tr>\n",
       "  </thead>\n",
       "  <tbody>\n",
       "    <tr>\n",
       "      <th>Media</th>\n",
       "      <td>101.88</td>\n",
       "    </tr>\n",
       "    <tr>\n",
       "      <th>Mediana</th>\n",
       "      <td>98.61</td>\n",
       "    </tr>\n",
       "    <tr>\n",
       "      <th>Moda</th>\n",
       "      <td>80.17</td>\n",
       "    </tr>\n",
       "    <tr>\n",
       "      <th>SD</th>\n",
       "      <td>23.55</td>\n",
       "    </tr>\n",
       "    <tr>\n",
       "      <th>MAD</th>\n",
       "      <td>18.06</td>\n",
       "    </tr>\n",
       "    <tr>\n",
       "      <th>Varianza</th>\n",
       "      <td>554.72</td>\n",
       "    </tr>\n",
       "    <tr>\n",
       "      <th>IQR</th>\n",
       "      <td>31.39</td>\n",
       "    </tr>\n",
       "    <tr>\n",
       "      <th>CV</th>\n",
       "      <td>23.12</td>\n",
       "    </tr>\n",
       "    <tr>\n",
       "      <th>CVM</th>\n",
       "      <td>18.31</td>\n",
       "    </tr>\n",
       "    <tr>\n",
       "      <th>Q1</th>\n",
       "      <td>87.34</td>\n",
       "    </tr>\n",
       "    <tr>\n",
       "      <th>Q2</th>\n",
       "      <td>98.61</td>\n",
       "    </tr>\n",
       "    <tr>\n",
       "      <th>Q3</th>\n",
       "      <td>118.73</td>\n",
       "    </tr>\n",
       "    <tr>\n",
       "      <th>LInferior</th>\n",
       "      <td>40.26</td>\n",
       "    </tr>\n",
       "    <tr>\n",
       "      <th>LSuperior</th>\n",
       "      <td>165.81</td>\n",
       "    </tr>\n",
       "  </tbody>\n",
       "</table>\n",
       "</div>"
      ],
      "text/plain": [
       "           Viabilidad\n",
       "Media          101.88\n",
       "Mediana         98.61\n",
       "Moda            80.17\n",
       "SD              23.55\n",
       "MAD             18.06\n",
       "Varianza       554.72\n",
       "IQR             31.39\n",
       "CV              23.12\n",
       "CVM             18.31\n",
       "Q1              87.34\n",
       "Q2              98.61\n",
       "Q3             118.73\n",
       "LInferior       40.26\n",
       "LSuperior      165.81"
      ]
     },
     "execution_count": 16,
     "metadata": {},
     "output_type": "execute_result"
    }
   ],
   "source": [
    "#Se calculan los estadisticos de la VARIABLE RESPUESTA\n",
    "st=pd.DataFrame()\n",
    "st[\"Viabilidad\"]=estadisticos(df1['Viabilidad2'])\n",
    "st\n"
   ]
  },
  {
   "cell_type": "code",
   "execution_count": 17,
   "id": "992aaeb0",
   "metadata": {},
   "outputs": [
    {
     "name": "stdout",
     "output_type": "stream",
     "text": [
      "Sin outliers\n",
      "None\n"
     ]
    }
   ],
   "source": [
    "#Outliers\n",
    "print(outliers_(df1['Viabilidad2']))"
   ]
  },
  {
   "cell_type": "code",
   "execution_count": 18,
   "id": "8d638576",
   "metadata": {},
   "outputs": [
    {
     "name": "stdout",
     "output_type": "stream",
     "text": [
      "\n",
      " Análisis de normalidad por Shapiro-Wilk para 'Variable Respuesta'\n",
      "Estadístico = 0.9614, p-valor = 0.4675\n",
      "Los datos provienen de una distribucion normal 'Variable Respuesta'\n"
     ]
    },
    {
     "data": {
      "text/plain": [
       "(np.float64(0.9614157741121585), np.float64(0.46752540047534846))"
      ]
     },
     "execution_count": 18,
     "metadata": {},
     "output_type": "execute_result"
    }
   ],
   "source": [
    "test_normalitySW(df1['Viabilidad2'],'Variable Respuesta')"
   ]
  },
  {
   "cell_type": "markdown",
   "id": "d26f8f6c",
   "metadata": {},
   "source": [
    "La variable respuesta es normal "
   ]
  },
  {
   "cell_type": "code",
   "execution_count": 19,
   "id": "92d2d489",
   "metadata": {},
   "outputs": [
    {
     "name": "stdout",
     "output_type": "stream",
     "text": [
      "Levene test Bloque: p-valor=0.4728\n",
      "Levene test Estimulo: p-valor=0.3440\n",
      "Levene test Tiempo: p-valor=0.1753\n"
     ]
    }
   ],
   "source": [
    "#Separamos los datos en grupos \n",
    "\n",
    "#Factor de Bloque\n",
    "nivel1=df1[df1['Bloque2'] == 3]['Viabilidad2']\n",
    "nivel2=df1[df1['Bloque2'] == 4]['Viabilidad2']\n",
    "\n",
    "#Factor de Estimulo \n",
    "nivel1E=df1[df1['Estimulo2'] == 2]['Viabilidad2']\n",
    "nivel2E=df1[df1['Estimulo2'] == 1]['Viabilidad2']\n",
    "\n",
    "#Factor de Tiempo \n",
    "\n",
    "nivel1T=df1[df1['Tiempo2'] == 1]['Viabilidad2']\n",
    "nivel2T=df1[df1['Tiempo2'] == 7]['Viabilidad2']\n",
    "\n",
    "#Realizamos la prueba de homocedasticidad \n",
    "_,levene=stats.levene(nivel1,nivel2)\n",
    "print(f'Levene test Bloque: p-valor={levene:.4f}')\n",
    "_,levene=stats.levene(nivel1E,nivel2E)\n",
    "print(f'Levene test Estimulo: p-valor={levene:.4f}')\n",
    "_,levene=stats.levene(nivel1T,nivel2T)\n",
    "print(f'Levene test Tiempo: p-valor={levene:.4f}')\n"
   ]
  },
  {
   "cell_type": "markdown",
   "id": "358303a4",
   "metadata": {},
   "source": [
    "- Dado que en todos los facotores el valor de P>0.05, se puede afirmar que los factores son HOMOCEDASTICOS.\n",
    "- Teniendo en cuenta que los factores como estimulo, tiempo y bloque, no tienen una relación entre si, se concluye que son datos independientes."
   ]
  },
  {
   "cell_type": "markdown",
   "metadata": {},
   "source": [
    "\n",
    "Los datos cumplen con todos los supuestos:\n",
    "1 Los residuos son normales con media 0.\n",
    "2 Los resiudos son independientes y aleatorios.\n",
    "3 La variable respuesta sigue una distribución normal.\n",
    "4 Hay homocedasticidad entre factores.\n",
    "5 Hay independencia entre puntos experimentales."
   ]
  },
  {
   "cell_type": "markdown",
   "id": "ef6a3b33",
   "metadata": {},
   "source": [
    "# **Prueba ANOVA**\n",
    "## El análisis de varianza es una prueba estadística que permite conocer si los factores de un experimento dado, tienen efecto sobre la variable respuesta. Estas pruebas se basan en modelos lineales de la siguiente forma:"
   ]
  },
  {
   "cell_type": "code",
   "execution_count": 20,
   "id": "3729de07",
   "metadata": {},
   "outputs": [
    {
     "name": "stdout",
     "output_type": "stream",
     "text": [
      "┏━━━━━━━━━━━━━━━━━━━━━━━━━━━━━━━━━━━━┳━━━━━━━━━━━┳━━━━━━┳━━━━━━━━━━━━┳━━━━━━━━━━━━━━━┓\n",
      "┃                                    ┃    sum_sq ┃   df ┃          F ┃        PR(>F) ┃\n",
      "┣━━━━━━━━━━━━━━━━━━━━━━━━━━━━━━━━━━━━╋━━━━━━━━━━━╋━━━━━━╋━━━━━━━━━━━━╋━━━━━━━━━━━━━━━┫\n",
      "┃ C(Bloque2)                         ┃ 5261.22   ┃    1 ┃  19.8512   ┃   0.000398637 ┃\n",
      "┣━━━━━━━━━━━━━━━━━━━━━━━━━━━━━━━━━━━━╋━━━━━━━━━━━╋━━━━━━╋━━━━━━━━━━━━╋━━━━━━━━━━━━━━━┫\n",
      "┃ C(Estimulo2)                       ┃ 1025.18   ┃    1 ┃   3.86813  ┃   0.0668032   ┃\n",
      "┣━━━━━━━━━━━━━━━━━━━━━━━━━━━━━━━━━━━━╋━━━━━━━━━━━╋━━━━━━╋━━━━━━━━━━━━╋━━━━━━━━━━━━━━━┫\n",
      "┃ C(Tiempo2)                         ┃ 1784.31   ┃    1 ┃   6.73241  ┃   0.0195505   ┃\n",
      "┣━━━━━━━━━━━━━━━━━━━━━━━━━━━━━━━━━━━━╋━━━━━━━━━━━╋━━━━━━╋━━━━━━━━━━━━╋━━━━━━━━━━━━━━━┫\n",
      "┃ C(Bloque2):C(Estimulo2)            ┃  172.001  ┃    1 ┃   0.648979 ┃   0.432288    ┃\n",
      "┣━━━━━━━━━━━━━━━━━━━━━━━━━━━━━━━━━━━━╋━━━━━━━━━━━╋━━━━━━╋━━━━━━━━━━━━╋━━━━━━━━━━━━━━━┫\n",
      "┃ C(Bloque2):C(Tiempo2)              ┃   27.7613 ┃    1 ┃   0.104747 ┃   0.750398    ┃\n",
      "┣━━━━━━━━━━━━━━━━━━━━━━━━━━━━━━━━━━━━╋━━━━━━━━━━━╋━━━━━━╋━━━━━━━━━━━━╋━━━━━━━━━━━━━━━┫\n",
      "┃ C(Estimulo2):C(Tiempo2)            ┃   27.5705 ┃    1 ┃   0.104027 ┃   0.751226    ┃\n",
      "┣━━━━━━━━━━━━━━━━━━━━━━━━━━━━━━━━━━━━╋━━━━━━━━━━━╋━━━━━━╋━━━━━━━━━━━━╋━━━━━━━━━━━━━━━┫\n",
      "┃ C(Bloque2):C(Estimulo2):C(Tiempo2) ┃   42.8961 ┃    1 ┃   0.161852 ┃   0.69278     ┃\n",
      "┣━━━━━━━━━━━━━━━━━━━━━━━━━━━━━━━━━━━━╋━━━━━━━━━━━╋━━━━━━╋━━━━━━━━━━━━╋━━━━━━━━━━━━━━━┫\n",
      "┃ Residual                           ┃ 4240.52   ┃   16 ┃ nan        ┃ nan           ┃\n",
      "┗━━━━━━━━━━━━━━━━━━━━━━━━━━━━━━━━━━━━┻━━━━━━━━━━━┻━━━━━━┻━━━━━━━━━━━━┻━━━━━━━━━━━━━━━┛\n"
     ]
    }
   ],
   "source": [
    "modelo=ols('Viabilidad2 ~ C(Bloque2)*C(Estimulo2)*C(Tiempo2)', data=df1).fit()\n",
    "\n",
    "anova_table = sm.stats.anova_lm(modelo, typ=2)\n",
    "print(tabulate(anova_table,headers='keys',tablefmt='heavy_grid'))"
   ]
  },
  {
   "cell_type": "code",
   "execution_count": 21,
   "id": "cf37f1cc",
   "metadata": {},
   "outputs": [
    {
     "name": "stdout",
     "output_type": "stream",
     "text": [
      "┏━━━━━━━━━━━━━━┳━━━━━━━━━━┳━━━━━━┳━━━━━━━━━━━┳━━━━━━━━━━━━━━━┓\n",
      "┃              ┃   sum_sq ┃   df ┃         F ┃        PR(>F) ┃\n",
      "┣━━━━━━━━━━━━━━╋━━━━━━━━━━╋━━━━━━╋━━━━━━━━━━━╋━━━━━━━━━━━━━━━┫\n",
      "┃ C(Bloque2)   ┃  5261.22 ┃    1 ┃  23.347   ┃   0.000101262 ┃\n",
      "┣━━━━━━━━━━━━━━╋━━━━━━━━━━╋━━━━━━╋━━━━━━━━━━━╋━━━━━━━━━━━━━━━┫\n",
      "┃ C(Estimulo2) ┃  1025.18 ┃    1 ┃   4.5493  ┃   0.0455109   ┃\n",
      "┣━━━━━━━━━━━━━━╋━━━━━━━━━━╋━━━━━━╋━━━━━━━━━━━╋━━━━━━━━━━━━━━━┫\n",
      "┃ C(Tiempo2)   ┃  1784.31 ┃    1 ┃   7.91799 ┃   0.0107223   ┃\n",
      "┣━━━━━━━━━━━━━━╋━━━━━━━━━━╋━━━━━━╋━━━━━━━━━━━╋━━━━━━━━━━━━━━━┫\n",
      "┃ Residual     ┃  4506.97 ┃   20 ┃ nan       ┃ nan           ┃\n",
      "┗━━━━━━━━━━━━━━┻━━━━━━━━━━┻━━━━━━┻━━━━━━━━━━━┻━━━━━━━━━━━━━━━┛\n"
     ]
    }
   ],
   "source": [
    "modelo=ols('Viabilidad2 ~ C(Bloque2)*C(Estimulo2)*C(Tiempo2)', data=df1).fit()\n",
    "#Se elimina la primera interaccion: Bloque, tiempo y estimulo. El valor p es mayor a 0.05 por lo tanto no es significativo\n",
    "modelo=ols('Viabilidad2 ~ C(Bloque2)+C(Estimulo2)+C(Tiempo2)+C(Bloque2):C(Estimulo2)+C(Bloque2):C(Tiempo2)+ C(Estimulo2):C(Tiempo2) ', data=df1).fit()\n",
    "#Se elimina la segunda interaccion Bloque:Tiempo, el valor p es mayor a 0.05 por lo tanto no es significativo\n",
    "modelo=ols('Viabilidad2 ~ C(Bloque2)+C(Estimulo2)+C(Tiempo2)+C(Bloque2):C(Estimulo2)+C(Estimulo2):C(Tiempo2)', data=df1).fit()\n",
    "# Se elimina la tercera interaccion Estimulo:Tiempo, el valor p es mayor a 0.05 por lo tanto no es significativo\n",
    "modelo=ols('Viabilidad2 ~ C(Bloque2)+C(Estimulo2)+C(Tiempo2)+C(Bloque2):C(Estimulo2)', data=df1).fit()\n",
    "# Se elimina la cuarta interaccion Bloque:Estimulo, el valor p es mayor a 0.05 por lo tanto no es significativo\n",
    "modelo=ols('Viabilidad2 ~ C(Bloque2)+C(Estimulo2)+C(Tiempo2)', data=df1).fit()\n",
    "\n",
    "anova_table = sm.stats.anova_lm(modelo, typ=2)\n",
    "print(tabulate(anova_table,headers='keys',tablefmt='heavy_grid'))"
   ]
  },
  {
   "cell_type": "markdown",
   "id": "b7326e19",
   "metadata": {},
   "source": [
    "Basado en la tabla , los unicos factores que tienen un efecto significativo en la viabilidad celular son: bloque, tiempo y estimulo."
   ]
  },
  {
   "cell_type": "code",
   "execution_count": 22,
   "id": "46c36e0f",
   "metadata": {},
   "outputs": [
    {
     "name": "stdout",
     "output_type": "stream",
     "text": [
      "\n",
      " Análisis de normalidad por Shapiro-Wilk para 'Residuos'\n",
      "Estadístico = 0.9742, p-valor = 0.7696\n",
      "Los datos provienen de una distribucion normal 'Residuos'\n",
      "Prueba T para una sola muestra para Residuos\n",
      "Estadístico = 0.0000, valor_p = 1.0000\n",
      "Prueba de Runs: p-valor=0.8609237034263656\n"
     ]
    },
    {
     "data": {
      "image/png": "[encoded data removed]",
      "text/plain": [
       "<Figure size 640x480 with 1 Axes>"
      ]
     },
     "metadata": {},
     "output_type": "display_data"
    }
   ],
   "source": [
    "#Extracción de residuos\n",
    "\n",
    "df1['Residuos']=modelo.resid\n",
    "\n",
    "# normalidad en los residuos\n",
    "\n",
    "test_normalitySW(df1['Residuos'],'Residuos')\n",
    "\n",
    "t_test_one(df1['Residuos'],0,\"Residuos\")\n",
    "\n",
    "random_test(df1['Residuos'])\n",
    "runstest_1samp(df1['Residuos'], correction=True)\n",
    "\n",
    "sm.qqplot(df1['Residuos'], line='45', fit=True)\n",
    "plt.title(\"QQ-Plot de los Residuos del ANOVA\")\n",
    "plt.show()"
   ]
  },
  {
   "cell_type": "markdown",
   "id": "9e23396a",
   "metadata": {},
   "source": [
    "Al realizar la extraccion de los residuos se obtiene la conclusion de que:\n",
    "- Los errores o residuos son independientes y aleatorios. Prueba runs p>0.05 \n",
    "- Los errores o residuos son normales con media 0 ya que la prueba test one es: p>0.05\n"
   ]
  },
  {
   "cell_type": "markdown",
   "id": "1821c198",
   "metadata": {},
   "source": [
    "## ¿Se deben realizar comparaciones múltiples, prueba de Tukey?\n",
    "### No, ya que estas pruebas son realizadas en Factores con 3 o más niveles, que no aplica en este caso, ya que cada factor tiene únicamente 2 niveles."
   ]
  },
  {
   "cell_type": "markdown",
   "id": "2dc16212",
   "metadata": {},
   "source": [
    "#### \n",
    "En conclusión, de acuerdo con el ANOVA realizado, se puede determinar que, aunque de forma individual el recubrimiento, el tiempo y el estímulo tienen un efecto significativo, las interacciones entre estos factores no presentan un efecto significativo sobre la variable respuesta, que en este caso es el porcentaje de viabilidad celular. \n",
    "\n",
    "Esto sugiere que exponer células cancerígenas a nanopartículas de oro (AuNPs), aplicar un estímulo de radiofrecuencia y el uso independiente de PEG (polietilenglicol) pueden influir de manera significativa por separado, pero no hay evidencia estadística suficiente que indique que la combinación simultánea de estos factores amplifique o modifique ese efecto.Por tanto, aunque el PEG puede aumentar el tiempo de circulación de las nanopartículas y facilitar su llegada al tejido conectivo, ese efecto no depende de una interacción específica con los otros factores considerados en el estudio."
   ]
  }
 ],
 "metadata": {
  "kernelspec": {
   "display_name": "Python 3",
   "language": "python",
   "name": "python3"
  },
  "language_info": {
   "codemirror_mode": {
    "name": "ipython",
    "version": 3
   },
   "file_extension": ".py",
   "mimetype": "text/x-python",
   "name": "python",
   "nbconvert_exporter": "python",
   "pygments_lexer": "ipython3",
   "version": "3.11.9"
  }
 },
 "nbformat": 4,
 "nbformat_minor": 5
}
